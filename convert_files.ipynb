{
 "cells": [
  {
   "cell_type": "code",
   "execution_count": 3,
   "id": "b4a1d4a0-850c-44d9-87c9-4162fd9fc827",
   "metadata": {},
   "outputs": [
    {
     "name": "stdout",
     "output_type": "stream",
     "text": [
      "Found 720 CSV files to convert.\n"
     ]
    },
    {
     "name": "stderr",
     "output_type": "stream",
     "text": [
      "Converting files: 100%|█████████████████████████████████████████████████████████████████████████████████████████████████████████████████████████████████████████████████████████████| 720/720 [00:10<00:00, 71.67it/s]\n"
     ]
    }
   ],
   "source": [
    "import os\n",
    "import pandas as pd\n",
    "import geopandas as gpd\n",
    "from tqdm import tqdm\n",
    "\n",
    "# Parameters\n",
    "input_root = \"datasets_leaflet\"\n",
    "output_root = \"datasets_latlon\"\n",
    "crs_in = \"EPSG:26914\"\n",
    "crs_out = \"EPSG:4326\"\n",
    "suffix = \"_epsg4326.csv\"\n",
    "\n",
    "# Collect all CSV paths\n",
    "csv_paths = []\n",
    "for dirpath, _, filenames in os.walk(input_root):\n",
    "    for fname in filenames:\n",
    "        if fname.endswith(\".csv\") and fname.startswith(\"dataset_\"):\n",
    "            full_path = os.path.join(dirpath, fname)\n",
    "            csv_paths.append(full_path)\n",
    "\n",
    "print(f\"Found {len(csv_paths)} CSV files to convert.\")\n",
    "os.makedirs(output_root, exist_ok=True)\n",
    "\n",
    "# Convert with progress bar\n",
    "for path in tqdm(csv_paths, desc=\"Converting files\", total=len(csv_paths)):\n",
    "    try:\n",
    "        df = pd.read_csv(path)\n",
    "        if not {\"X\", \"Y\", \"value\"}.issubset(df.columns):\n",
    "            print(f\"❌ Skipping {path}: missing required columns\")\n",
    "            continue\n",
    "\n",
    "        df = df.dropna(subset=[\"X\", \"Y\", \"value\"])\n",
    "\n",
    "        # Convert to GeoDataFrame and reproject\n",
    "        gdf = gpd.GeoDataFrame(df, geometry=gpd.points_from_xy(df.X, df.Y), crs=crs_in)\n",
    "        gdf = gdf.to_crs(crs_out)\n",
    "        gdf[\"lat\"] = gdf.geometry.y\n",
    "        gdf[\"lon\"] = gdf.geometry.x\n",
    "\n",
    "        # Build output path\n",
    "        relative_dir = os.path.relpath(os.path.dirname(path), input_root)\n",
    "        base_name = os.path.splitext(os.path.basename(path))[0]\n",
    "        output_filename = base_name + suffix\n",
    "        output_dir = os.path.join(output_root, relative_dir)\n",
    "        os.makedirs(output_dir, exist_ok=True)\n",
    "        output_path = os.path.join(output_dir, output_filename)\n",
    "\n",
    "        # Save as CSV with lon/lat/value only\n",
    "        gdf[[\"lon\", \"lat\", \"value\"]].to_csv(output_path, index=False)\n",
    "\n",
    "    except Exception as e:\n",
    "        print(f\"⚠️ Error with {path}: {e}\")\n"
   ]
  },
  {
   "cell_type": "code",
   "execution_count": null,
   "id": "528ae5d2-3c8e-4ab1-a75b-f3c567173b20",
   "metadata": {},
   "outputs": [],
   "source": []
  }
 ],
 "metadata": {
  "kernelspec": {
   "display_name": "Python 3 (ipykernel)",
   "language": "python",
   "name": "python3"
  },
  "language_info": {
   "codemirror_mode": {
    "name": "ipython",
    "version": 3
   },
   "file_extension": ".py",
   "mimetype": "text/x-python",
   "name": "python",
   "nbconvert_exporter": "python",
   "pygments_lexer": "ipython3",
   "version": "3.9.6"
  }
 },
 "nbformat": 4,
 "nbformat_minor": 5
}
